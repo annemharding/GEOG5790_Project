{
 "cells": [
  {
   "cell_type": "code",
   "execution_count": 81,
   "metadata": {
    "scrolled": true
   },
   "outputs": [
    {
     "name": "stdout",
     "output_type": "stream",
     "text": [
      "Please select .csv file for analysis:\n"
     ]
    },
    {
     "data": {
      "application/vnd.jupyter.widget-view+json": {
       "model_id": "6a0ff7b7e73142a7800851dc4f46fdaf",
       "version_major": 2,
       "version_minor": 0
      },
      "text/plain": [
       "Text(value='...', description='Data file:')"
      ]
     },
     "metadata": {},
     "output_type": "display_data"
    }
   ],
   "source": [
    "'''\n",
    "GEOG5790 - Programming for Geographical Information Analysis: Advanced Skills\n",
    "Independent Project - EA WIMS Water Quality Data Analyser/Viewer\n",
    "\n",
    "Anne Harding (200754573)\n",
    "05/05/2019\n",
    "\n",
    "interactive_plot.ipynb\n",
    "\n",
    "Jupyter notebook for user to view and analyse data for user-specified .csv file\n",
    "containing WQ data (using Text widget for user input) and for a specified determinand\n",
    "(using Dropdown widget for user input).\n",
    "'''\n",
    "# -----------------------------------------------------------------------------------\n",
    "# STEP ONE: IMPORT MODULES AND LOAD INPUT FILE FOR ANALYSIS.\n",
    "# -----------------------------------------------------------------------------------\n",
    "\n",
    "%matplotlib inline\n",
    "\n",
    "# Import modules:\n",
    "import os\n",
    "import pandas as pd\n",
    "import numpy as np\n",
    "import folium\n",
    "from matplotlib import pyplot\n",
    "import ipywidgets as widgets\n",
    "from IPython.display import display\n",
    "from plotly.offline import download_plotlyjs, init_notebook_mode, plot\n",
    "from convertbng.util import convert_lonlat\n",
    "\n",
    "# Set up Text widget for user to add filepath for datafile:\n",
    "file_input = widgets.Text(\n",
    "    value='...',\n",
    "    description='Data file:',\n",
    "    disabled=False\n",
    ")\n",
    "# Display widget:\n",
    "print(\"Please select .csv file for analysis:\")\n",
    "display(file_input)\n",
    "\n",
    "# Note: Would like a file browser window here, but I don't think a widget exists to do so in Jupyter."
   ]
  },
  {
   "cell_type": "code",
   "execution_count": 4,
   "metadata": {},
   "outputs": [
    {
     "name": "stdout",
     "output_type": "stream",
     "text": [
      "Input data file accepted.\n",
      "Reading data.\n",
      "Please select determinand of interest:\n"
     ]
    },
    {
     "data": {
      "application/vnd.jupyter.widget-view+json": {
       "model_id": "09c2982a717e413bb739284c68a70aa4",
       "version_major": 2,
       "version_minor": 0
      },
      "text/plain": [
       "Dropdown(description='Determinand:', options=('Solids, Suspended at 105 C', 'BOD : 5 Day ATU', 'Iron', 'pH', '…"
      ]
     },
     "metadata": {},
     "output_type": "display_data"
    }
   ],
   "source": [
    "# -----------------------------------------------------------------------------------\n",
    "# STEP TWO: CONFIRM INPUT FILE IS APPROPRIATE FOR ANALYSIS AND DISPLAY DROPDOWN\n",
    "# WIDGET FOR USER TO SELECT DETERMINAND FOR ANALYSIS.\n",
    "# -----------------------------------------------------------------------------------\n",
    "\n",
    "# Get path for input data file from Text widget:\n",
    "datafile = file_input.value\n",
    "\n",
    "# Check if file exists:\n",
    "if os.path.isfile(datafile):\n",
    "    # Get file extension:\n",
    "    filename, extension = os.path.splitext(datafile)\n",
    "    # Print statement to manually check file extension:\n",
    "    # print(extension)\n",
    "    # Check if file extension is .csv:\n",
    "    if extension != '.csv':\n",
    "        raise ValueError(\"File must be .csv format.\")\n",
    "    else:\n",
    "        print(\"Input data file accepted.\")\n",
    "        # Read .csv file into a pandas dataframe:\n",
    "        print(\"Reading data.\")\n",
    "        df = pd.read_csv(datafile)\n",
    "        # Print statement to manually check dataframe:\n",
    "        # print(df)\n",
    "        # Get list of unique determinands from dataframe:\n",
    "        dets = df[\"determinand.definition\"].unique()\n",
    "        # Print statement to manually check unique list of determinands:\n",
    "        # print(dets)\n",
    "else:\n",
    "    raise ValueError(\"File does not exist.\")\n",
    "\n",
    "# Set up Dropdown widget for user to choose determinand of interest:\n",
    "det_dd = widgets.Dropdown(\n",
    "    options=dets,\n",
    "    value=dets[0],\n",
    "    description='Determinand:',\n",
    "    disabled=False,\n",
    ")\n",
    "# Display widget:\n",
    "print(\"Please select determinand of interest:\")\n",
    "display(det_dd)"
   ]
  },
  {
   "cell_type": "code",
   "execution_count": 80,
   "metadata": {},
   "outputs": [
    {
     "name": "stdout",
     "output_type": "stream",
     "text": [
      "Descriptive statistics table for Conductivity at 25 C (us/cm).\n"
     ]
    }
   ],
   "source": [
    "# -----------------------------------------------------------------------------------\n",
    "# STEP THREE: PREPARE DATA FOR PLOTTING, PRODUCE PLOT AND CALCULATE STATISTICS.\n",
    "# -----------------------------------------------------------------------------------\n",
    "# PREPARE DATA:\n",
    "\n",
    "# Obtain chosen determinand for analysis from Dropdown widget:\n",
    "chosen_det = det_dd.value\n",
    "# Print statement to manally check chosen determinand:\n",
    "# print(chosen_det)\n",
    "\n",
    "# Filter dataframe to only keep values for chosen determinand:\n",
    "df_filtered = df[df['determinand.definition'] == chosen_det]\n",
    "# Print statement to check filtered dataframe:\n",
    "# print(df_filtered)\n",
    "\n",
    "# Get standard units for chosen determinand:\n",
    "units = df_filtered[\"determinand.unit.label\"].unique()[0]\n",
    "# Print statement to manually check units:\n",
    "# print(units)\n",
    "\n",
    "# Get list of sampling points from filtered dataframe:\n",
    "locs = df_filtered[\"sample.samplingPoint.notation\"].unique()\n",
    "# Print statement to manually check unique list of sampling points:\n",
    "# print(locs)\n",
    "\n",
    "# Sort df_filtered by date:\n",
    "df_ordered = df_filtered.sort_values(by='sample.sampleDateTime')\n",
    "# print(df_ordered)\n",
    "\n",
    "# -----------------------------------------------------------------------------------\n",
    "# DIRECTORY AND FILENAMES FOR SAVING PLOTS:\n",
    "\n",
    "# Get directory of input file:\n",
    "dir = os.path.dirname(datafile)\n",
    "# Define path for subdirectory to save plots:\n",
    "plots_dir = os.path.join(dir, \"plots\")\n",
    "\n",
    "# Try to create output directory:\n",
    "try:\n",
    "    os.mkdir(plots_dir)\n",
    "    print(\"Directory {} created.\".format(plots_dir))\n",
    "# If output directory already exists, raise FileExistsError:\n",
    "except FileExistsError:\n",
    "    # print(\"Directory {} already exists.\".format(plots_dir))\n",
    "    pass\n",
    "\n",
    "# Create filename for saving plot:\n",
    "plot_filename = os.path.join(plots_dir, chosen_det + \"_plot.html\")\n",
    "# Create filename for saving map:\n",
    "map_filename = os.path.join(plots_dir, chosen_det + \"_map.html\")\n",
    "\n",
    "# -----------------------------------------------------------------------------------\n",
    "# DATA PLOTTING:\n",
    "\n",
    "# Plot data and save as .html file using filename:\n",
    "fig = {\n",
    "    'data': [\n",
    "        {\n",
    "            'x': df_ordered[df_ordered['sample.samplingPoint.notation']\n",
    "                             ==loc]['sample.sampleDateTime'],\n",
    "            'y': df_ordered[df_ordered['sample.samplingPoint.notation']\n",
    "                             ==loc]['resultQualified'],\n",
    "            'name': loc, 'mode': 'markers+lines',\n",
    "        } for loc in locs\n",
    "    ],\n",
    "    'layout': {\n",
    "        'xaxis': {'title': 'Date'},\n",
    "        'yaxis': {'title': (chosen_det + \" (\" + str(units) + \")\")}\n",
    "    }\n",
    "}\n",
    "\n",
    "plot(fig, filename=plot_filename)\n",
    "\n",
    "# -----------------------------------------------------------------------------------\n",
    "# DESCRIPTIVE STATISTICS:\n",
    "\n",
    "# Descriptive statistics for chosen determinand for each sampling point:\n",
    "print(\"Descriptive statistics table for {}.\".format(chosen_det + \" (\" + str(units) + \")\"))\n",
    "df_ordered['resultQualified'].groupby(df_ordered['sample.samplingPoint.notation']).describe()\n",
    "\n",
    "# -----------------------------------------------------------------------------------\n",
    "# MAPPING:\n",
    "\n",
    "# Get list of x-coordinates for sampling points:\n",
    "eastings = df_ordered[\"sample.samplingPoint.easting\"].unique()\n",
    "# Get list of y-coordinates for sampling points:\n",
    "northings = df_ordered[\"sample.samplingPoint.northing\"].unique()\n",
    "# Get list of notations for sampling points:\n",
    "notations = df_ordered[\"sample.samplingPoint.notation\"].unique()\n",
    "\n",
    "# Convert eastings, northings to longitude, latitude:\n",
    "lonlat = convert_lonlat(eastings, northings)\n",
    "\n",
    "# Create empty list to write coordinate pairs:\n",
    "coords = []\n",
    "# Get each pair of coordinates from lonlat:\n",
    "for i in range(0, len(lonlat[0])):\n",
    "    coord = [coord[i] for coord in lonlat]\n",
    "    coord.append(notations[i])\n",
    "    # Print statement to manually check coordinate pair:\n",
    "    # print(coord)\n",
    "    # Add coordinate pair to coords list:\n",
    "    coords.append(coord)\n",
    "# Print statement to manually check list of coordinate pairs:\n",
    "# print(coords)\n",
    "\n",
    "# Get notation and label for each sampling point:\n",
    "for coord in coords:\n",
    "    df_ordered['sample.samplingPoint.easting']\n",
    "\n",
    "# Make empty map centered on London using OpenStreetMap background:\n",
    "m = folium.Map(location=[51.4772, 0], tiles=\"openstreetmap\", zoom_start=5)\n",
    "\n",
    "# Add markers for sampling points selected:\n",
    "for coord in coords:\n",
    "    folium.Marker([coord[1], coord[0]], popup=coord[2]).add_to(m)\n",
    "    \n",
    "m.save(map_filename)\n",
    "\n",
    "# -----------------------------------------------------------------------------------"
   ]
  },
  {
   "cell_type": "code",
   "execution_count": null,
   "metadata": {},
   "outputs": [],
   "source": []
  }
 ],
 "metadata": {
  "kernelspec": {
   "display_name": "Python 3",
   "language": "python",
   "name": "python3"
  },
  "language_info": {
   "codemirror_mode": {
    "name": "ipython",
    "version": 3
   },
   "file_extension": ".py",
   "mimetype": "text/x-python",
   "name": "python",
   "nbconvert_exporter": "python",
   "pygments_lexer": "ipython3",
   "version": "3.7.3"
  }
 },
 "nbformat": 4,
 "nbformat_minor": 2
}
